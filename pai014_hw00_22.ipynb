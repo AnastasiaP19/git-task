{
 "cells": [
  {
   "cell_type": "markdown",
   "metadata": {},
   "source": [
    "# Знакомство с SymPy"
   ]
  },
  {
   "cell_type": "markdown",
   "metadata": {},
   "source": [
    "### Индивидуальное домашнее задание"
   ]
  },
  {
   "cell_type": "markdown",
   "metadata": {},
   "source": [
    "### Петух Анастасия Игоревна (pai014), группа: М22-106"
   ]
  },
  {
   "cell_type": "markdown",
   "metadata": {},
   "source": [
    "**Выполните указанные ниже действия, сохраните свою работу в виде ipynb-файла с именем `pai014_hw00_22.ipynb` и прикрепите этот файл к сообщению своему преподавателю**."
   ]
  },
  {
   "cell_type": "markdown",
   "metadata": {},
   "source": [
    "**Задание 1.** Вычислите значение выражения $\\displaystyle\\sqrt[5]{\\frac{\\sqrt2}{{(5-\\sqrt3)}^2{(\\pi+2e)}^3}+\\sqrt[8]{e^3}}$ с точностью 40 значащих десятичных цифр."
   ]
  },
  {
   "cell_type": "code",
   "execution_count": 15,
   "metadata": {},
   "outputs": [
    {
     "data": {
      "text/latex": [
       "$\\displaystyle 1.077915232182405416807508263416935989561$"
      ],
      "text/plain": [
       "1.077915232182405416807508263416935989561"
      ]
     },
     "execution_count": 15,
     "metadata": {},
     "output_type": "execute_result"
    }
   ],
   "source": [
    "from sympy import *\n",
    "N((((sqrt(S(2)))/((S(28)-S(10)*sqrt(3))*(pi+S(2)*E)**3))+(E**(S(3)/8)))**(S(1)/5),40)"
   ]
  },
  {
   "cell_type": "markdown",
   "metadata": {},
   "source": [
    "**Задание 2.** Раскройте скобки в выражении $\\left(x - 2 y\\right)^{3} \\left(x + 2 y\\right) \\left(u + z - 1\\right)^{2}$."
   ]
  },
  {
   "cell_type": "code",
   "execution_count": 5,
   "metadata": {},
   "outputs": [
    {
     "data": {
      "text/latex": [
       "$\\displaystyle u^{2} x^{4} - 4 u^{2} x^{3} y + 16 u^{2} x y^{3} - 16 u^{2} y^{4} + 2 u x^{4} z - 2 u x^{4} - 8 u x^{3} y z + 8 u x^{3} y + 32 u x y^{3} z - 32 u x y^{3} - 32 u y^{4} z + 32 u y^{4} + x^{4} z^{2} - 2 x^{4} z + x^{4} - 4 x^{3} y z^{2} + 8 x^{3} y z - 4 x^{3} y + 16 x y^{3} z^{2} - 32 x y^{3} z + 16 x y^{3} - 16 y^{4} z^{2} + 32 y^{4} z - 16 y^{4}$"
      ],
      "text/plain": [
       "u**2*x**4 - 4*u**2*x**3*y + 16*u**2*x*y**3 - 16*u**2*y**4 + 2*u*x**4*z - 2*u*x**4 - 8*u*x**3*y*z + 8*u*x**3*y + 32*u*x*y**3*z - 32*u*x*y**3 - 32*u*y**4*z + 32*u*y**4 + x**4*z**2 - 2*x**4*z + x**4 - 4*x**3*y*z**2 + 8*x**3*y*z - 4*x**3*y + 16*x*y**3*z**2 - 32*x*y**3*z + 16*x*y**3 - 16*y**4*z**2 + 32*y**4*z - 16*y**4"
      ]
     },
     "execution_count": 5,
     "metadata": {},
     "output_type": "execute_result"
    }
   ],
   "source": [
    "from sympy import *\n",
    "var('x y u z')\n",
    "e = ((x-2*y)**3)*(x+2*y)*(u+z-1)**2\n",
    "expand (e)"
   ]
  },
  {
   "cell_type": "markdown",
   "metadata": {},
   "source": [
    "**Задание 3.** Разложите на множители многочлен $36 u^{3} x^{2} - 36 u^{3} x y + 9 u^{3} y^{2} + 24 u^{2} x^{3} - 24 u^{2} x^{2} y - 72 u^{2} x^{2} z + 6 u^{2} x y^{2} + 72 u^{2} x y z - 18 u^{2} y^{2} z + 4 u x^{4} - 4 u x^{3} y - 48 u x^{3} z + u x^{2} y^{2} + 48 u x^{2} y z - 12 u x y^{2} z - 8 x^{4} z + 8 x^{3} y z - 2 x^{2} y^{2} z$."
   ]
  },
  {
   "cell_type": "code",
   "execution_count": 10,
   "metadata": {},
   "outputs": [
    {
     "data": {
      "text/latex": [
       "$\\displaystyle - \\left(- u + 2 z\\right) \\left(3 u + x\\right)^{2} \\left(2 x - y\\right)^{2}$"
      ],
      "text/plain": [
       "-(-u + 2*z)*(3*u + x)**2*(2*x - y)**2"
      ]
     },
     "execution_count": 10,
     "metadata": {},
     "output_type": "execute_result"
    }
   ],
   "source": [
    "from sympy import *\n",
    "var('u x y z')\n",
    "e = 36*u**3*x**2-36*u**3*x*y+9*u**3*y**2+24*u**2*x**3-24*u**2*x**2*y-72*u**2*x**2*z+6*u**2*x*y**2+72*u**2*x*y*z-18*u**2*y**2*z+4*u*x**4-4*u*x**3*y-48*u*x**3*z+u*x**2*y**2+48*u*x**2*y*z-12*u*x*y**2*z-8*x**4*z+8*x**3*y*z-2*x**2*y**2*z\n",
    "factor (e)"
   ]
  },
  {
   "cell_type": "markdown",
   "metadata": {},
   "source": [
    "**Задание 4.** Найдите все (включая комплексные) корни уравнения $45 x^{4} + 2 x^{3} + 199 x^{2} - 286 x - 168 = 0$."
   ]
  },
  {
   "cell_type": "code",
   "execution_count": 38,
   "metadata": {},
   "outputs": [
    {
     "data": {
      "text/latex": [
       "$\\displaystyle \\left\\{- \\frac{4}{9}, \\frac{7}{5}, - \\frac{1}{2} - \\frac{\\sqrt{23} i}{2}, - \\frac{1}{2} + \\frac{\\sqrt{23} i}{2}\\right\\}$"
      ],
      "text/plain": [
       "FiniteSet(-4/9, 7/5, -1/2 - sqrt(23)*I/2, -1/2 + sqrt(23)*I/2)"
      ]
     },
     "execution_count": 38,
     "metadata": {},
     "output_type": "execute_result"
    }
   ],
   "source": [
    "from sympy import *\n",
    "solveset(45*x**4 + 2*x**3 + 199*x**2 - 286*x - 168, x)"
   ]
  },
  {
   "cell_type": "markdown",
   "metadata": {},
   "source": [
    "**Задание 5.** Постройте график функции, заданной неявно: $\\displaystyle x^{5} - 3 x y^{2} + 3 y^{5}=0$. Используйте одинаковый масштаб по координатным осям."
   ]
  },
  {
   "cell_type": "code",
   "execution_count": 47,
   "metadata": {},
   "outputs": [
    {
     "data": {
      "image/png": "[encoded data removed]",
      "text/plain": [
       "<Figure size 432x288 with 1 Axes>"
      ]
     },
     "metadata": {
      "needs_background": "light"
     },
     "output_type": "display_data"
    },
    {
     "data": {
      "text/plain": [
       "<sympy.plotting.plot.Plot at 0x7fd3b927d850>"
      ]
     },
     "execution_count": 47,
     "metadata": {},
     "output_type": "execute_result"
    }
   ],
   "source": [
    "from sympy import *\n",
    "%matplotlib inline\n",
    "var('y')\n",
    "plot_implicit(x**5 - 3*x*y**2 +3*y**5, aspect_ratio = (1,1))"
   ]
  },
  {
   "cell_type": "markdown",
   "metadata": {},
   "source": [
    "**Задание 6.** Постройте график функции, заданной параметрически: $\\displaystyle x(t)=3 \\sin{\\left(5 t \\right)}$, $\\displaystyle y(t)=5 \\sin{\\left(2 t \\right)}$. Используйте минимальный по длине промежуток изменения параметра и одинаковый масштаб по координатным осям."
   ]
  },
  {
   "cell_type": "code",
   "execution_count": 56,
   "metadata": {},
   "outputs": [
    {
     "data": {
      "image/png": "[encoded data removed]",
      "text/plain": [
       "<Figure size 432x288 with 1 Axes>"
      ]
     },
     "metadata": {
      "needs_background": "light"
     },
     "output_type": "display_data"
    },
    {
     "data": {
      "text/plain": [
       "<sympy.plotting.plot.Plot at 0x7fd3b8c652d0>"
      ]
     },
     "execution_count": 56,
     "metadata": {},
     "output_type": "execute_result"
    }
   ],
   "source": [
    "from sympy import *\n",
    "%matplotlib inline\n",
    "var('t')\n",
    "plotting.plot_parametric(3*sin(5*t), 5*sin(2*t), (t, -pi, pi), aspect_ratio = (1,1))"
   ]
  },
  {
   "cell_type": "code",
   "execution_count": null,
   "metadata": {},
   "outputs": [],
   "source": []
  }
 ],
 "metadata": {
  "kernelspec": {
   "display_name": "Python 3 (ipykernel)",
   "language": "python",
   "name": "python3"
  },
  "language_info": {
   "codemirror_mode": {
    "name": "ipython",
    "version": 3
   },
   "file_extension": ".py",
   "mimetype": "text/x-python",
   "name": "python",
   "nbconvert_exporter": "python",
   "pygments_lexer": "ipython3",
   "version": "3.7.10"
  }
 },
 "nbformat": 4,
 "nbformat_minor": 2
}
